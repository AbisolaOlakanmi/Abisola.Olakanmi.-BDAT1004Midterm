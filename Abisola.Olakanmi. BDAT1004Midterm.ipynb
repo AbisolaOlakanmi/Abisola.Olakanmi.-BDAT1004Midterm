{
 "cells": [
  {
   "cell_type": "code",
   "execution_count": 76,
   "id": "1dde12ed",
   "metadata": {},
   "outputs": [],
   "source": [
    "import math"
   ]
  },
  {
   "cell_type": "code",
   "execution_count": 104,
   "id": "15cb2b52",
   "metadata": {},
   "outputs": [
    {
     "name": "stdout",
     "output_type": "stream",
     "text": [
      "Length: 5.0\n",
      "Slope: 1.3333333333333333\n"
     ]
    }
   ],
   "source": [
    "#defining the function point\n",
    "class Point:\n",
    "    def __init__(self, x=0, y=0):\n",
    "        self.x = x\n",
    "        self.y = y\n",
    "\n",
    "class Segment:\n",
    "    def __init__(self, point1, point2):\n",
    "        self.point1 = point1\n",
    "        self.point2 = point2\n",
    "\n",
    "    def Length(self):\n",
    "        # Calculate the length of the segment\n",
    "        dx = self.point2.x - self.point1.x\n",
    "        dy = self.point2.y - self.point1.y\n",
    "        return math.sqrt(dx**2 + dy**2)   \n",
    "\n",
    "    def Slope(self):\n",
    "        # Calculate the slope of the segment\n",
    "        dx = self.point2.x - self.point1.x\n",
    "        dy = self.point2.y - self.point1.y\n",
    "\n",
    "        # Check if the slope is unbounded\n",
    "        if dx == 1:\n",
    "            return None\n",
    "        else:\n",
    "            return dy / dx\n",
    "\n",
    "\n",
    "\n",
    "p1 = Point(3, 4)\n",
    "p2 = Point(0, 0)\n",
    "\n",
    "s = Segment(p1, p2)\n",
    "\n",
    "print(\"Length:\", s.Length()) #finding the length\n",
    "print(\"Slope:\", s.Slope()) #finding the slope\n"
   ]
  },
  {
   "cell_type": "code",
   "execution_count": 50,
   "id": "2bebc9ed",
   "metadata": {},
   "outputs": [
    {
     "name": "stdout",
     "output_type": "stream",
     "text": [
      "*\n",
      "**\n",
      " *\n",
      "****\n",
      " ***\n",
      "  **\n",
      "   *\n"
     ]
    }
   ],
   "source": [
    "# defining function tough\n",
    "\n",
    "def tough(indentation, pattern_size):\n",
    "    #when pattern_size is 0,let recursion stop\n",
    "    if pattern_size == 0:\n",
    "        return\n",
    "\n",
    "    # Print the current line with indentation and '*' characters\n",
    "    print(' ' * indentation + '*' * pattern_size)\n",
    "\n",
    "    # using Recursive step: \n",
    "    tough(indentation + 1, pattern_size - 1)\n",
    "\n",
    "# Example Usage:\n",
    "tough(0, 0)\n",
    "tough(0, 1)\n",
    "tough(0, 2)\n",
    "tough(0, 4)"
   ]
  },
  {
   "cell_type": "code",
   "execution_count": 57,
   "id": "bd98a7ef",
   "metadata": {},
   "outputs": [],
   "source": [
    "import sqlite3\n",
    "con = sqlite3.connect('base.db')\n",
    "cur = con.cursor()"
   ]
  },
  {
   "cell_type": "code",
   "execution_count": 58,
   "id": "8d4ffc92",
   "metadata": {},
   "outputs": [],
   "source": [
    "# Create the WEATHER_DATA table\n",
    "cur.execute(\"CREATE TABLE IF NOT EXISTS WEATHER_DATA (id INTEGER, recordDate DATE, temperature INTEGER)\")\n",
    "\n",
    "data = [\n",
    "    (1, '2015-01-01', 10), (2, '2015-01-02', 25), (3, '2015-01-03', 20),(4, '2015-01-04', 30)]\n",
    "\n",
    "# Insert data into the table\n",
    "for info in data:\n",
    "    cur.execute(\"INSERT INTO WEATHER_DATA VALUES (?, ?, ?)\", info)\n",
    "\n",
    "# Commit the changes\n",
    "con.commit()\n",
    "\n",
    "# # Close the connection\n",
    "# con.close()\n"
   ]
  },
  {
   "cell_type": "code",
   "execution_count": 89,
   "id": "83bf8bbc",
   "metadata": {},
   "outputs": [
    {
     "data": {
      "text/plain": [
       "[(2, '2015-01-02', 25), (4, '2015-01-04', 30)]"
      ]
     },
     "execution_count": 89,
     "metadata": {},
     "output_type": "execute_result"
    }
   ],
   "source": [
    "cur.execute('SELECT id, recordDate, temperature FROM WEATHER_DATA WHERE Temperature >20 GROUP BY recordDate')\n",
    "cur.fetchall()"
   ]
  },
  {
   "cell_type": "code",
   "execution_count": 101,
   "id": "b0a04fd3",
   "metadata": {},
   "outputs": [
    {
     "data": {
      "text/plain": [
       "[(2,), (4,)]"
      ]
     },
     "execution_count": 101,
     "metadata": {},
     "output_type": "execute_result"
    }
   ],
   "source": [
    "cur.execute('SELECT id FROM WEATHER_DATA WHERE Temperature >20 GROUP BY recordDate')\n",
    "cur.fetchall()"
   ]
  },
  {
   "cell_type": "markdown",
   "id": "025c57b3",
   "metadata": {},
   "source": [
    "Explanation: \n",
    "In 2015-01-02, the temperature was higher than the previous day (10 -> 25).\n",
    "In 2015-01-04, the temperature was higher than the previous day (20 -> 30)."
   ]
  }
 ],
 "metadata": {
  "kernelspec": {
   "display_name": "Python 3 (ipykernel)",
   "language": "python",
   "name": "python3"
  },
  "language_info": {
   "codemirror_mode": {
    "name": "ipython",
    "version": 3
   },
   "file_extension": ".py",
   "mimetype": "text/x-python",
   "name": "python",
   "nbconvert_exporter": "python",
   "pygments_lexer": "ipython3",
   "version": "3.10.9"
  }
 },
 "nbformat": 4,
 "nbformat_minor": 5
}
